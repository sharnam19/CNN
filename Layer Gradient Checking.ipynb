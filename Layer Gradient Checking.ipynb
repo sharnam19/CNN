{
 "cells": [
  {
   "cell_type": "code",
   "execution_count": 1,
   "metadata": {
    "collapsed": false
   },
   "outputs": [],
   "source": [
    "from util.layer import *\n",
    "from util.util import *\n",
    "from util.activations import *\n",
    "from util.normalization import *\n",
    "from util.convolution import *\n",
    "import numpy as np\n",
    "%load_ext autoreload\n",
    "%autoreload 2\n",
    "import time"
   ]
  },
  {
   "cell_type": "markdown",
   "metadata": {},
   "source": [
    "# Activation Layers "
   ]
  },
  {
   "cell_type": "markdown",
   "metadata": {},
   "source": [
    "## Relu Gradient Checking"
   ]
  },
  {
   "cell_type": "code",
   "execution_count": 2,
   "metadata": {
    "collapsed": false
   },
   "outputs": [
    {
     "name": "stdout",
     "output_type": "stream",
     "text": [
      "dx : 5.00068273234e-13\n"
     ]
    }
   ],
   "source": [
    "x = np.random.rand(3,5,5)\n",
    "dOut = np.random.rand(3,5,5)\n",
    "\n",
    "f,cache = relu_forward(x)\n",
    "dx = relu_backward(dOut,cache)\n",
    "dx_num = num_gradient_array(lambda x:relu_forward(x)[0],x,dOut)\n",
    "print(\"dx : \"+str(rel_error(dx,dx_num)))"
   ]
  },
  {
   "cell_type": "markdown",
   "metadata": {},
   "source": [
    "## Sigmoid Gradient Checking"
   ]
  },
  {
   "cell_type": "code",
   "execution_count": 3,
   "metadata": {
    "collapsed": false
   },
   "outputs": [
    {
     "name": "stdout",
     "output_type": "stream",
     "text": [
      "dx : 1.53618543883e-11\n"
     ]
    }
   ],
   "source": [
    "x = np.random.rand(5,8)\n",
    "dOut = np.random.rand(5,8)\n",
    "\n",
    "f,cache = sigmoid_forward(x)\n",
    "dx = sigmoid_backward(dOut,cache)\n",
    "dx_num = num_gradient_array(lambda x:sigmoid_forward(x)[0],x,dOut)\n",
    "print(\"dx : \"+str(rel_error(dx,dx_num)))"
   ]
  },
  {
   "cell_type": "markdown",
   "metadata": {},
   "source": [
    "## Tanh Gradient Checking"
   ]
  },
  {
   "cell_type": "code",
   "execution_count": 4,
   "metadata": {
    "collapsed": false
   },
   "outputs": [
    {
     "name": "stdout",
     "output_type": "stream",
     "text": [
      "dx : 2.72722098301e-11\n"
     ]
    }
   ],
   "source": [
    "x = np.random.rand(12,89)\n",
    "dOut = np.random.rand(12,89)\n",
    "\n",
    "f,cache = tanh_forward(x)\n",
    "dx = tanh_backward(dOut,cache)\n",
    "dx_num = num_gradient_array(lambda x:tanh_forward(x)[0],x,dOut)\n",
    "print(\"dx : \"+str(rel_error(dx,dx_num)))"
   ]
  },
  {
   "cell_type": "markdown",
   "metadata": {},
   "source": [
    "## Leaky Relu Checking "
   ]
  },
  {
   "cell_type": "code",
   "execution_count": 5,
   "metadata": {
    "collapsed": false
   },
   "outputs": [
    {
     "name": "stdout",
     "output_type": "stream",
     "text": [
      "dx : 6.43897146172e-12\n"
     ]
    }
   ],
   "source": [
    "x = np.random.normal(0,1,(5,16))\n",
    "dOut = np.random.normal(0,2,(5,16))\n",
    "\n",
    "f,cache = leaky_relu_forward(x)\n",
    "dx = leaky_relu_backward(dOut,cache)\n",
    "dx_num = num_gradient_array(lambda x:leaky_relu_forward(x)[0],x,dOut)\n",
    "print(\"dx : \"+str(rel_error(dx,dx_num)))"
   ]
  },
  {
   "cell_type": "markdown",
   "metadata": {},
   "source": [
    "# Normalization Layers "
   ]
  },
  {
   "cell_type": "markdown",
   "metadata": {},
   "source": [
    "## Batch Normalization "
   ]
  },
  {
   "cell_type": "code",
   "execution_count": 6,
   "metadata": {
    "collapsed": false
   },
   "outputs": [],
   "source": [
    "x = np.random.rand(25,42)\n",
    "gamma = np.random.rand(42)\n",
    "beta = np.random.rand(42)\n",
    "dOut = np.random.rand(25,42)\n",
    "params = {}\n",
    "params[\"mode\"]=\"train\"\n",
    "params[\"running_mean\"]=0.5\n",
    "params[\"running_var\"] = 0.04\n",
    "params[\"momentum\"]=0.9\n",
    "params[\"eps\"]=1e-8\n",
    "out,cache = batch_normalization_forward(x,gamma,beta,params)\n",
    "dx,dgamma,dbeta = batch_normalization_backward(dOut,cache)"
   ]
  },
  {
   "cell_type": "code",
   "execution_count": 7,
   "metadata": {
    "collapsed": false
   },
   "outputs": [
    {
     "name": "stdout",
     "output_type": "stream",
     "text": [
      "dx : 2.58657380323e-08\n",
      "dgamma : 1.16039707147e-09\n",
      "dbeta : 1.31743669569e-12\n"
     ]
    }
   ],
   "source": [
    "dx_num = num_gradient_array(lambda x:batch_normalization_forward(x,gamma,beta,params)[0],x,dOut)\n",
    "dgamma_num = num_gradient_array(lambda gamma:batch_normalization_forward(x,gamma,beta,params)[0],gamma,dOut)\n",
    "dbeta_num = num_gradient_array(lambda beta:batch_normalization_forward(x,gamma,beta,params)[0],beta,dOut)\n",
    "print(\"dx : \"+str(rel_error(dx,dx_num)))\n",
    "print(\"dgamma : \"+str(rel_error(dgamma,dgamma_num)))\n",
    "print(\"dbeta : \"+str(rel_error(dbeta,dbeta_num)))"
   ]
  },
  {
   "cell_type": "markdown",
   "metadata": {},
   "source": [
    "## Spatial Batch Normalization"
   ]
  },
  {
   "cell_type": "markdown",
   "metadata": {},
   "source": [
    "# Convolution Layers"
   ]
  },
  {
   "cell_type": "markdown",
   "metadata": {
    "collapsed": true
   },
   "source": [
    "## Pooling Gradient Checking "
   ]
  },
  {
   "cell_type": "code",
   "execution_count": 11,
   "metadata": {
    "collapsed": false
   },
   "outputs": [
    {
     "name": "stdout",
     "output_type": "stream",
     "text": [
      "dx : 5.00089318084e-13\n"
     ]
    }
   ],
   "source": [
    "x = np.random.rand(5,6,8,8)\n",
    "dOut= np.random.rand(5,6,4,4)\n",
    "pooling_params={}\n",
    "pooling_params['pooling_height'] = 2\n",
    "pooling_params['pooling_width'] = 2\n",
    "pooling_params['pooling_stride_height'] = 2\n",
    "pooling_params['pooling_stride_width'] = 2\n",
    "\n",
    "f,cache = max_pooling_forward(x,pooling_params)\n",
    "dx = max_pooling_backward(dOut,cache)\n",
    "dx_num = num_gradient_array(lambda x:max_pooling_forward(x,pooling_params)[0],x,dOut)\n",
    "print(\"dx : \"+str(rel_error(dx,dx_num)))"
   ]
  },
  {
   "cell_type": "markdown",
   "metadata": {},
   "source": [
    "## Fast Convolution Forward Checking"
   ]
  },
  {
   "cell_type": "code",
   "execution_count": 12,
   "metadata": {
    "collapsed": false
   },
   "outputs": [
    {
     "name": "stdout",
     "output_type": "stream",
     "text": [
      "f : 2.43269592856e-15\n"
     ]
    }
   ],
   "source": [
    "x = np.random.rand(5,3,20,20)\n",
    "w = np.random.rand(10,3,3,3)\n",
    "b = np.random.rand(10)\n",
    "dOut = np.random.rand(5,10,18,18)\n",
    "S = 1\n",
    "params = {}\n",
    "params['stride']=S\n",
    "f,cache = convolve_forward_naive(x,w,b,params)\n",
    "f2,cache2 = convolve_forward_fast(x,w,b,params)\n",
    "print(\"f : \"+str(rel_error(f,f2)))"
   ]
  },
  {
   "cell_type": "markdown",
   "metadata": {},
   "source": [
    "## Fast Convolution Gradient Checking"
   ]
  },
  {
   "cell_type": "code",
   "execution_count": 13,
   "metadata": {
    "collapsed": false
   },
   "outputs": [
    {
     "name": "stdout",
     "output_type": "stream",
     "text": [
      "dx : 8.89729329483e-09\n",
      "dw : 5.73281601808e-11\n",
      "db : 1.80422083748e-11\n"
     ]
    }
   ],
   "source": [
    "x = np.random.rand(5,3,20,20)\n",
    "w = np.random.rand(10,3,3,3)\n",
    "b = np.random.rand(10)\n",
    "dOut = np.random.rand(5,10,18,18)\n",
    "S = 1\n",
    "params = {}\n",
    "params['stride']=S\n",
    "f,cache = convolve_forward_fast(x,w,b,params)\n",
    "dx,dw,db = convolve_backward_fast(dOut,cache)\n",
    "dx_num = num_gradient_array(lambda x:convolve_forward_fast(x,w,b,params)[0],x,dOut)\n",
    "dw_num = num_gradient_array(lambda w:convolve_forward_fast(x,w,b,params)[0],w,dOut)\n",
    "db_num = num_gradient_array(lambda b:convolve_forward_fast(x,w,b,params)[0],b,dOut)\n",
    "print(\"dx : \"+str(rel_error(dx,dx_num)))\n",
    "print(\"dw : \"+str(rel_error(dw,dw_num)))\n",
    "print(\"db : \"+str(rel_error(db,db_num)))"
   ]
  },
  {
   "cell_type": "markdown",
   "metadata": {},
   "source": [
    "# Other Layers"
   ]
  },
  {
   "cell_type": "markdown",
   "metadata": {},
   "source": [
    "## Affine Gradient Checking"
   ]
  },
  {
   "cell_type": "code",
   "execution_count": 8,
   "metadata": {
    "collapsed": true
   },
   "outputs": [],
   "source": [
    "x = np.random.rand(2,4)\n",
    "w = np.random.rand(4,8)\n",
    "b = np.random.rand(8)\n",
    "dOut = np.random.rand(2,8)\n",
    "out,cache = affine_forward(x,w,b)\n",
    "dx,dw,db = affine_backward(dOut,cache)"
   ]
  },
  {
   "cell_type": "code",
   "execution_count": 9,
   "metadata": {
    "collapsed": false
   },
   "outputs": [
    {
     "name": "stdout",
     "output_type": "stream",
     "text": [
      "dx : 4.12711984748e-12\n",
      "dw : 1.66132907602e-11\n",
      "db : 3.275562862e-12\n"
     ]
    }
   ],
   "source": [
    "dx_num = num_gradient_array(lambda x:affine_forward(x,w,b)[0],x,dOut)\n",
    "dw_num = num_gradient_array(lambda w:affine_forward(x,w,b)[0],w,dOut)\n",
    "db_num = num_gradient_array(lambda b:affine_forward(x,w,b)[0],b,dOut)\n",
    "print(\"dx : \"+str(rel_error(dx,dx_num)))\n",
    "print(\"dw : \"+str(rel_error(dw,dw_num)))\n",
    "print(\"db : \"+str(rel_error(db,db_num)))"
   ]
  },
  {
   "cell_type": "markdown",
   "metadata": {},
   "source": [
    "## Flatten Gradient Checking "
   ]
  },
  {
   "cell_type": "code",
   "execution_count": 10,
   "metadata": {
    "collapsed": false
   },
   "outputs": [
    {
     "name": "stdout",
     "output_type": "stream",
     "text": [
      "dx : 5.00091462062e-13\n"
     ]
    }
   ],
   "source": [
    "x = np.random.rand(5,2,6,7,8)\n",
    "dOut= np.random.rand(5,2*6*7*8)\n",
    "\n",
    "f,cache = flatten_forward(x)\n",
    "dx = flatten_backward(dOut,cache)\n",
    "dx_num = num_gradient_array(lambda x:flatten_forward(x)[0],x,dOut)\n",
    "print(\"dx : \"+str(rel_error(dx,dx_num)))"
   ]
  }
 ],
 "metadata": {
  "kernelspec": {
   "display_name": "Python 2",
   "language": "python",
   "name": "python2"
  },
  "language_info": {
   "codemirror_mode": {
    "name": "ipython",
    "version": 2
   },
   "file_extension": ".py",
   "mimetype": "text/x-python",
   "name": "python",
   "nbconvert_exporter": "python",
   "pygments_lexer": "ipython2",
   "version": "2.7.13"
  }
 },
 "nbformat": 4,
 "nbformat_minor": 2
}
