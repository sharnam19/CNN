{
 "cells": [
  {
   "cell_type": "code",
   "execution_count": 1,
   "metadata": {
    "collapsed": false
   },
   "outputs": [],
   "source": [
    "from util.layer import *\n",
    "from util.util import *\n",
    "from util.activations import *\n",
    "from util.normalization import *\n",
    "from util.convolution import *\n",
    "from util.loss import *\n",
    "import numpy as np\n",
    "%load_ext autoreload\n",
    "%autoreload 2\n",
    "import time"
   ]
  },
  {
   "cell_type": "markdown",
   "metadata": {},
   "source": [
    "# Activation Layers "
   ]
  },
  {
   "cell_type": "markdown",
   "metadata": {},
   "source": [
    "## Relu Gradient Checking"
   ]
  },
  {
   "cell_type": "code",
   "execution_count": 2,
   "metadata": {
    "collapsed": false
   },
   "outputs": [
    {
     "name": "stdout",
     "output_type": "stream",
     "text": [
      "dx : 5.00076869768e-13\n"
     ]
    }
   ],
   "source": [
    "x = np.random.rand(3,5,5)\n",
    "dOut = np.random.rand(3,5,5)\n",
    "\n",
    "f,cache = relu_forward(x)\n",
    "dx = relu_backward(dOut,cache)\n",
    "dx_num = num_gradient_array(lambda x:relu_forward(x)[0],x,dOut)\n",
    "print(\"dx : \"+str(rel_error(dx,dx_num)))"
   ]
  },
  {
   "cell_type": "markdown",
   "metadata": {},
   "source": [
    "## Sigmoid Gradient Checking"
   ]
  },
  {
   "cell_type": "code",
   "execution_count": 3,
   "metadata": {
    "collapsed": false
   },
   "outputs": [
    {
     "name": "stdout",
     "output_type": "stream",
     "text": [
      "dx : 1.57243025039e-11\n"
     ]
    }
   ],
   "source": [
    "x = np.random.rand(5,8)\n",
    "dOut = np.random.rand(5,8)\n",
    "\n",
    "f,cache = sigmoid_forward(x)\n",
    "dx = sigmoid_backward(dOut,cache)\n",
    "dx_num = num_gradient_array(lambda x:sigmoid_forward(x)[0],x,dOut)\n",
    "print(\"dx : \"+str(rel_error(dx,dx_num)))"
   ]
  },
  {
   "cell_type": "markdown",
   "metadata": {},
   "source": [
    "## Tanh Gradient Checking"
   ]
  },
  {
   "cell_type": "code",
   "execution_count": 4,
   "metadata": {
    "collapsed": false
   },
   "outputs": [
    {
     "name": "stdout",
     "output_type": "stream",
     "text": [
      "dx : 2.50063428171e-11\n"
     ]
    }
   ],
   "source": [
    "x = np.random.rand(12,89)\n",
    "dOut = np.random.rand(12,89)\n",
    "\n",
    "f,cache = tanh_forward(x)\n",
    "dx = tanh_backward(dOut,cache)\n",
    "dx_num = num_gradient_array(lambda x:tanh_forward(x)[0],x,dOut)\n",
    "print(\"dx : \"+str(rel_error(dx,dx_num)))"
   ]
  },
  {
   "cell_type": "markdown",
   "metadata": {},
   "source": [
    "## Leaky Relu Checking "
   ]
  },
  {
   "cell_type": "code",
   "execution_count": 5,
   "metadata": {
    "collapsed": false
   },
   "outputs": [
    {
     "name": "stdout",
     "output_type": "stream",
     "text": [
      "dx : 6.43898211058e-12\n"
     ]
    }
   ],
   "source": [
    "x = np.random.normal(0,1,(5,16))\n",
    "dOut = np.random.normal(0,2,(5,16))\n",
    "\n",
    "f,cache = leaky_relu_forward(x)\n",
    "dx = leaky_relu_backward(dOut,cache)\n",
    "dx_num = num_gradient_array(lambda x:leaky_relu_forward(x)[0],x,dOut)\n",
    "print(\"dx : \"+str(rel_error(dx,dx_num)))"
   ]
  },
  {
   "cell_type": "markdown",
   "metadata": {},
   "source": [
    "# Normalization Layers "
   ]
  },
  {
   "cell_type": "markdown",
   "metadata": {},
   "source": [
    "## Batch Normalization "
   ]
  },
  {
   "cell_type": "code",
   "execution_count": 6,
   "metadata": {
    "collapsed": false
   },
   "outputs": [],
   "source": [
    "x = np.random.rand(25,42)\n",
    "gamma = np.random.rand(42)\n",
    "beta = np.random.rand(42)\n",
    "dOut = np.random.rand(25,42)\n",
    "params = {}\n",
    "params[\"mode\"]=\"train\"\n",
    "params[\"running_mean\"]=0.5\n",
    "params[\"running_var\"] = 0.04\n",
    "params[\"momentum\"]=0.9\n",
    "params[\"eps\"]=1e-8\n",
    "out,cache = batch_normalization_forward(x,gamma,beta,params)\n",
    "dx,dgamma,dbeta = batch_normalization_backward(dOut,cache)"
   ]
  },
  {
   "cell_type": "code",
   "execution_count": 7,
   "metadata": {
    "collapsed": false
   },
   "outputs": [
    {
     "name": "stdout",
     "output_type": "stream",
     "text": [
      "dx : 2.55636467322e-07\n",
      "dgamma : 5.42108549502e-10\n",
      "dbeta : 1.0982416371e-12\n"
     ]
    }
   ],
   "source": [
    "dx_num = num_gradient_array(lambda x:batch_normalization_forward(x,gamma,beta,params)[0],x,dOut)\n",
    "dgamma_num = num_gradient_array(lambda gamma:batch_normalization_forward(x,gamma,beta,params)[0],gamma,dOut)\n",
    "dbeta_num = num_gradient_array(lambda beta:batch_normalization_forward(x,gamma,beta,params)[0],beta,dOut)\n",
    "print(\"dx : \"+str(rel_error(dx,dx_num)))\n",
    "print(\"dgamma : \"+str(rel_error(dgamma,dgamma_num)))\n",
    "print(\"dbeta : \"+str(rel_error(dbeta,dbeta_num)))"
   ]
  },
  {
   "cell_type": "markdown",
   "metadata": {},
   "source": [
    "## Spatial Batch Normalization"
   ]
  },
  {
   "cell_type": "code",
   "execution_count": 18,
   "metadata": {
    "collapsed": false
   },
   "outputs": [
    {
     "name": "stdout",
     "output_type": "stream",
     "text": [
      "[[[[  7.91005927e-09   7.83100973e-09   7.86430338e-09 ...,\n",
      "      7.94196248e-09   7.88505572e-09   8.06063882e-09]\n",
      "   [  7.71641595e-09   7.93008942e-09   7.80468845e-09 ...,\n",
      "      7.84494025e-09   8.01557382e-09   7.93915955e-09]\n",
      "   [  8.03635658e-09   7.94840194e-09   7.86079535e-09 ...,\n",
      "      7.63774977e-09   7.78419373e-09   7.69238206e-09]\n",
      "   ..., \n",
      "   [  7.99668809e-09   7.70355268e-09   7.63714952e-09 ...,\n",
      "      7.86677767e-09   7.65371566e-09   7.78259923e-09]\n",
      "   [  7.95700283e-09   8.03459144e-09   7.75932318e-09 ...,\n",
      "      7.98840949e-09   7.69028574e-09   7.89525223e-09]\n",
      "   [  8.03464362e-09   7.89497524e-09   7.82400211e-09 ...,\n",
      "      8.12419887e-09   8.01575262e-09   7.92366683e-09]]\n",
      "\n",
      "  [[ -8.44378079e-09  -8.27424929e-09  -8.43932346e-09 ...,\n",
      "     -8.32425573e-09  -8.32605507e-09  -8.34896174e-09]\n",
      "   [ -8.29961433e-09  -8.08983930e-09  -8.58183613e-09 ...,\n",
      "     -8.41482328e-09  -8.38864737e-09  -8.32470781e-09]\n",
      "   [ -8.19554957e-09  -8.31311109e-09  -8.21948065e-09 ...,\n",
      "     -8.51535314e-09  -8.55955525e-09  -8.58672838e-09]\n",
      "   ..., \n",
      "   [ -8.54151072e-09  -8.30290592e-09  -8.48833270e-09 ...,\n",
      "     -8.42571884e-09  -8.43825321e-09  -8.16007018e-09]\n",
      "   [ -8.45383985e-09  -8.28997149e-09  -8.55322912e-09 ...,\n",
      "     -8.24720781e-09  -8.29033697e-09  -8.23639290e-09]\n",
      "   [ -8.26082269e-09  -8.37098768e-09  -8.37393682e-09 ...,\n",
      "     -8.17473478e-09  -8.40106140e-09  -8.33122099e-09]]\n",
      "\n",
      "  [[  2.63283466e-09   2.62969796e-09   2.60688526e-09 ...,\n",
      "      2.65969208e-09   2.65262708e-09   2.69440001e-09]\n",
      "   [  2.57490100e-09   2.66136083e-09   2.62917166e-09 ...,\n",
      "      2.57702892e-09   2.68143180e-09   2.60502097e-09]\n",
      "   [  2.70002343e-09   2.64033362e-09   2.64160566e-09 ...,\n",
      "      2.63584615e-09   2.71632403e-09   2.58958188e-09]\n",
      "   ..., \n",
      "   [  2.54049687e-09   2.59368105e-09   2.69335583e-09 ...,\n",
      "      2.69565936e-09   2.61293376e-09   2.63297961e-09]\n",
      "   [  2.64965944e-09   2.52946587e-09   2.68611461e-09 ...,\n",
      "      2.79866502e-09   2.68581363e-09   2.72501030e-09]\n",
      "   [  2.61082199e-09   2.52411550e-09   2.51189047e-09 ...,\n",
      "      2.59397875e-09   2.62396310e-09   2.70740536e-09]]]\n",
      "\n",
      "\n",
      " [[[  7.78477394e-09   7.85296472e-09   8.09926848e-09 ...,\n",
      "      7.77084497e-09   7.55291873e-09   7.77671394e-09]\n",
      "   [  7.78030063e-09   8.03684223e-09   7.79146325e-09 ...,\n",
      "      7.66284036e-09   7.84955934e-09   7.67174435e-09]\n",
      "   [  8.01894906e-09   7.87431298e-09   7.67720620e-09 ...,\n",
      "      7.90255922e-09   7.67388329e-09   8.06109801e-09]\n",
      "   ..., \n",
      "   [  7.75832454e-09   7.75664466e-09   7.88219223e-09 ...,\n",
      "      8.01597499e-09   7.79495246e-09   7.93167348e-09]\n",
      "   [  8.12695566e-09   7.77470338e-09   7.75165167e-09 ...,\n",
      "      7.96050093e-09   7.94108146e-09   7.86664522e-09]\n",
      "   [  7.62329333e-09   7.84967624e-09   8.00770328e-09 ...,\n",
      "      7.80600388e-09   7.96936302e-09   8.20897272e-09]]\n",
      "\n",
      "  [[ -8.31370373e-09  -8.49596182e-09  -8.29873597e-09 ...,\n",
      "     -8.18825452e-09  -8.25320901e-09  -8.32795100e-09]\n",
      "   [ -8.53721049e-09  -8.46171622e-09  -8.62280802e-09 ...,\n",
      "     -8.60241078e-09  -8.37652259e-09  -8.30593250e-09]\n",
      "   [ -8.42525616e-09  -8.56695315e-09  -8.38167383e-09 ...,\n",
      "     -8.57711990e-09  -8.10726541e-09  -8.61164996e-09]\n",
      "   ..., \n",
      "   [ -8.66885541e-09  -8.67576311e-09  -8.34571995e-09 ...,\n",
      "     -8.42079095e-09  -8.62541794e-09  -8.23751878e-09]\n",
      "   [ -8.31265701e-09  -8.29145735e-09  -8.46807752e-09 ...,\n",
      "     -8.40240605e-09  -8.59827609e-09  -8.54698795e-09]\n",
      "   [ -8.27567048e-09  -8.37107983e-09  -8.39840830e-09 ...,\n",
      "     -8.70937877e-09  -8.42086910e-09  -8.37104480e-09]]\n",
      "\n",
      "  [[  2.70395201e-09   2.58884458e-09   2.62731398e-09 ...,\n",
      "      2.59272853e-09   2.66450241e-09   2.64395295e-09]\n",
      "   [  2.69399664e-09   2.62562261e-09   2.54835780e-09 ...,\n",
      "      2.61936729e-09   2.60853796e-09   2.60884425e-09]\n",
      "   [  2.65087777e-09   2.66829503e-09   2.64034394e-09 ...,\n",
      "      2.68961362e-09   2.58541499e-09   2.68491846e-09]\n",
      "   ..., \n",
      "   [  2.60975674e-09   2.59323499e-09   2.68196684e-09 ...,\n",
      "      2.69356601e-09   2.66854439e-09   2.52675009e-09]\n",
      "   [  2.65660155e-09   2.64342148e-09   2.58465616e-09 ...,\n",
      "      2.68594463e-09   2.56358174e-09   2.65426908e-09]\n",
      "   [  2.71416262e-09   2.54793286e-09   2.62207767e-09 ...,\n",
      "      2.64217098e-09   2.64607702e-09   2.68959283e-09]]]\n",
      "\n",
      "\n",
      " [[[  7.76578679e-09   7.89991317e-09   7.79949771e-09 ...,\n",
      "      7.94809341e-09   7.85536902e-09   7.89951905e-09]\n",
      "   [  7.86199305e-09   7.82707787e-09   7.95330291e-09 ...,\n",
      "      7.83389317e-09   8.05242573e-09   7.85776311e-09]\n",
      "   [  7.88659685e-09   7.93142596e-09   7.96333532e-09 ...,\n",
      "      7.73939018e-09   7.74441689e-09   7.87440291e-09]\n",
      "   ..., \n",
      "   [  7.79170262e-09   7.84738119e-09   7.86189969e-09 ...,\n",
      "      7.77807663e-09   7.76532372e-09   8.04604317e-09]\n",
      "   [  7.83499504e-09   8.00368533e-09   8.02392641e-09 ...,\n",
      "      7.82733056e-09   7.90183757e-09   7.92847299e-09]\n",
      "   [  7.67202218e-09   7.84589349e-09  -9.01821862e-09 ...,\n",
      "      7.75848086e-09   7.94548138e-09   7.97721103e-09]]\n",
      "\n",
      "  [[ -8.54355570e-09  -8.49267212e-09  -8.42699655e-09 ...,\n",
      "     -8.32452518e-09  -8.12685808e-09  -8.39472580e-09]\n",
      "   [ -8.37919767e-09  -8.55509774e-09  -8.33352420e-09 ...,\n",
      "     -8.61827493e-09  -8.53206261e-09  -8.54047766e-09]\n",
      "   [ -8.24578805e-09  -8.26469071e-09  -8.74754003e-09 ...,\n",
      "     -8.24594926e-09  -8.27774405e-09  -8.73199135e-09]\n",
      "   ..., \n",
      "   [ -8.44866921e-09  -8.49767812e-09  -8.35702840e-09 ...,\n",
      "     -8.43921341e-09  -8.59962290e-09  -8.22439628e-09]\n",
      "   [ -8.37139280e-09  -8.38509640e-09  -8.55250132e-09 ...,\n",
      "     -8.51476017e-09  -8.22776247e-09  -8.52483245e-09]\n",
      "   [ -8.34194988e-09  -8.61173910e-09  -8.52050730e-09 ...,\n",
      "     -8.33918778e-09  -8.44155179e-09  -8.48919801e-09]]\n",
      "\n",
      "  [[  2.61531324e-09   2.56728661e-09   2.68729733e-09 ...,\n",
      "      2.54028243e-09   2.66327192e-09   2.68130912e-09]\n",
      "   [  2.65274246e-09   2.65683689e-09   2.64059064e-09 ...,\n",
      "      2.63299399e-09   2.68074396e-09   2.68893419e-09]\n",
      "   [  2.60526495e-09   2.55653727e-09   2.66271305e-09 ...,\n",
      "      2.72599360e-09   2.63658212e-09   2.65822203e-09]\n",
      "   ..., \n",
      "   [  2.63305257e-09   2.72292144e-09   2.69305388e-09 ...,\n",
      "      2.64163601e-09   2.63177330e-09   2.62610977e-09]\n",
      "   [  2.59971833e-09   2.63850330e-09   2.68457788e-09 ...,\n",
      "      2.62835123e-09   2.64873856e-09   2.63497829e-09]\n",
      "   [  2.63316158e-09   2.61248101e-09   2.56623173e-09 ...,\n",
      "      2.61616590e-09   2.59474617e-09   2.65186850e-09]]]\n",
      "\n",
      "\n",
      " ..., \n",
      " [[[  7.69820840e-09   7.92199906e-09   8.00078685e-09 ...,\n",
      "      8.06896039e-09   7.90499421e-09   7.94971899e-09]\n",
      "   [  7.52975728e-09   7.68759423e-09   7.88332044e-09 ...,\n",
      "      7.90815036e-09   7.95170529e-09   7.91029064e-09]\n",
      "   [  7.86477039e-09   7.94334398e-09   7.70420128e-09 ...,\n",
      "      8.39277936e-09   7.81072021e-09   7.68460529e-09]\n",
      "   ..., \n",
      "   [  7.85344090e-09   8.03217914e-09   7.77108533e-09 ...,\n",
      "      7.70575825e-09   8.06497272e-09   7.89746959e-09]\n",
      "   [  8.00630345e-09   8.11097056e-09   7.90759525e-09 ...,\n",
      "      8.00936974e-09   7.76623876e-09   7.97443689e-09]\n",
      "   [  7.78475617e-09   8.00218225e-09   7.79631826e-09 ...,\n",
      "      7.95001709e-09   7.82917220e-09   7.88893439e-09]]\n",
      "\n",
      "  [[  6.98613825e-09   6.61362520e-09   6.92477320e-09 ...,\n",
      "     -8.23174495e-09  -8.47844764e-09   6.57261084e-09]\n",
      "   [ -8.60920213e-09  -8.18391754e-09   7.06522119e-09 ...,\n",
      "      6.73814262e-09  -8.39638825e-09  -8.55374661e-09]\n",
      "   [  6.75803657e-09  -8.37565506e-09  -8.48131976e-09 ...,\n",
      "     -8.53838855e-09  -8.27904567e-09  -8.33176447e-09]\n",
      "   ..., \n",
      "   [  6.67933564e-09  -8.41869943e-09   6.84134172e-09 ...,\n",
      "     -8.60152605e-09  -8.32912761e-09   6.94059377e-09]\n",
      "   [ -8.14256751e-09  -8.51536541e-09   6.76836520e-09 ...,\n",
      "     -8.44328152e-09  -8.30972128e-09  -8.10377399e-09]\n",
      "   [  6.93669454e-09   6.61849897e-09   6.98844904e-09 ...,\n",
      "     -8.43203107e-09   6.66560890e-09  -8.30613422e-09]]\n",
      "\n",
      "  [[  2.69855283e-09   2.58728025e-09   2.63027185e-09 ...,\n",
      "      2.63238403e-09   2.67610051e-09   2.59231533e-09]\n",
      "   [  2.55623525e-09   2.65978010e-09   2.63667149e-09 ...,\n",
      "      2.67950034e-09   2.75012385e-09   2.68917931e-09]\n",
      "   [  2.65006150e-09   2.61887106e-09   2.60509214e-09 ...,\n",
      "      2.65396688e-09   2.52248694e-09   2.62231581e-09]\n",
      "   ..., \n",
      "   [  2.65856651e-09   2.63160865e-09   2.66491601e-09 ...,\n",
      "      2.56871102e-09   2.60213714e-09   2.67066658e-09]\n",
      "   [  2.61565825e-09   2.58378599e-09   2.57604243e-09 ...,\n",
      "      2.64397892e-09   2.64919464e-09   2.59819626e-09]\n",
      "   [  2.61394772e-09   2.73159967e-09   2.66774296e-09 ...,\n",
      "      2.59077737e-09   2.60362409e-09   2.63386787e-09]]]\n",
      "\n",
      "\n",
      " [[[  7.91437338e-09   7.83115417e-09   7.87669274e-09 ...,\n",
      "      7.86078835e-09   7.61350416e-09   8.01337108e-09]\n",
      "   [  7.82185960e-09   8.03322220e-09   8.02930056e-09 ...,\n",
      "      7.83654130e-09   7.87761989e-09   7.97841571e-09]\n",
      "   [  7.95177116e-09   7.97836375e-09   7.81790477e-09 ...,\n",
      "      7.80277909e-09   7.84321563e-09   8.10186469e-09]\n",
      "   ..., \n",
      "   [  7.75322295e-09   7.96165212e-09   7.92907051e-09 ...,\n",
      "      7.78444087e-09   7.60761154e-09   7.91696556e-09]\n",
      "   [  7.76878351e-09   7.98057376e-09   8.11511924e-09 ...,\n",
      "      7.87344301e-09   8.13513212e-09   7.89874455e-09]\n",
      "   [  7.98710720e-09   8.13859419e-09   7.93893107e-09 ...,\n",
      "      7.90180898e-09   7.81653403e-09   8.07219251e-09]]\n",
      "\n",
      "  [[  6.82540158e-09  -8.22326873e-09   6.77420993e-09 ...,\n",
      "     -8.31001912e-09   6.65222005e-09   6.85168389e-09]\n",
      "   [ -8.52119733e-09  -8.37761460e-09   6.86833412e-09 ...,\n",
      "     -8.30715452e-09  -8.43435932e-09  -8.34171798e-09]\n",
      "   [  7.10297376e-09  -8.53932410e-09  -8.32148572e-09 ...,\n",
      "     -8.05224730e-09  -8.43988746e-09  -8.39590475e-09]\n",
      "   ..., \n",
      "   [ -8.16349754e-09  -8.12858669e-09  -8.42860592e-09 ...,\n",
      "      6.69643996e-09   6.79072900e-09   6.91874358e-09]\n",
      "   [ -8.44440151e-09  -8.49421489e-09  -8.30212232e-09 ...,\n",
      "     -8.40245995e-09   6.63191246e-09   7.19155957e-09]\n",
      "   [ -8.35326541e-09  -8.23237423e-09   6.87219270e-09 ...,\n",
      "     -8.10912804e-09   6.69205719e-09  -8.26907576e-09]]\n",
      "\n",
      "  [[  2.60620470e-09   2.62473371e-09   2.69725264e-09 ...,\n",
      "      2.65580198e-09   2.61161920e-09   2.61213257e-09]\n",
      "   [  2.69713638e-09   2.68206124e-09   2.65182531e-09 ...,\n",
      "      2.68343375e-09   2.64749581e-09   2.65591438e-09]\n",
      "   [  2.58528826e-09   2.63351274e-09   2.60250873e-09 ...,\n",
      "      2.66277209e-09   2.70574263e-09   2.57291846e-09]\n",
      "   ..., \n",
      "   [  2.62470279e-09   2.58618554e-09   2.62856364e-09 ...,\n",
      "      2.61619082e-09   2.65082256e-09   2.60550714e-09]\n",
      "   [  2.58026595e-09   2.64461589e-09   2.58763855e-09 ...,\n",
      "      2.61962405e-09   2.63256908e-09   2.63432266e-09]\n",
      "   [  2.60019123e-09   2.58993799e-09   2.55760113e-09 ...,\n",
      "      2.65419414e-09   2.62080713e-09   2.61095479e-09]]]\n",
      "\n",
      "\n",
      " [[[  8.09084683e-09   7.60236640e-09   7.89788157e-09 ...,\n",
      "      7.67114905e-09   7.87214050e-09   8.02671329e-09]\n",
      "   [  8.10500422e-09   7.76492259e-09   7.67774144e-09 ...,\n",
      "      7.99035949e-09   8.01432876e-09   8.00261390e-09]\n",
      "   [  7.83774201e-09   7.82511206e-09   7.79136922e-09 ...,\n",
      "      8.07959144e-09   7.86169974e-09   7.94372368e-09]\n",
      "   ..., \n",
      "   [  7.96576649e-09   7.80002229e-09   7.57512575e-09 ...,\n",
      "      7.80532194e-09   7.79832665e-09   7.77212539e-09]\n",
      "   [  8.11946066e-09   7.92834158e-09   7.99628494e-09 ...,\n",
      "      7.79267048e-09   7.92392907e-09   7.79657350e-09]\n",
      "   [  8.06408140e-09   7.96490651e-09   7.54470868e-09 ...,\n",
      "      7.73546593e-09   7.79167175e-09   7.85566523e-09]]\n",
      "\n",
      "  [[  6.99970223e-09  -8.60014193e-09   6.55697074e-09 ...,\n",
      "     -8.44917741e-09  -8.51707382e-09  -8.38357550e-09]\n",
      "   [  6.70314348e-09  -8.26923263e-09  -8.50175369e-09 ...,\n",
      "     -8.16615464e-09   6.55441962e-09  -8.35831382e-09]\n",
      "   [ -8.17178475e-09   6.99145278e-09   6.81481528e-09 ...,\n",
      "      6.73500433e-09   6.53156129e-09  -8.19554913e-09]\n",
      "   ..., \n",
      "   [ -8.70270300e-09  -8.55158877e-09  -8.56169802e-09 ...,\n",
      "     -8.28180202e-09  -8.46474291e-09  -8.67848104e-09]\n",
      "   [ -8.36233660e-09  -8.16597567e-09   6.83997969e-09 ...,\n",
      "      6.54523213e-09   6.57966370e-09   6.65387578e-09]\n",
      "   [  6.72294642e-09  -8.32140512e-09   6.66172939e-09 ...,\n",
      "      6.70619790e-09   6.95479585e-09  -8.36655101e-09]]\n",
      "\n",
      "  [[  2.67857875e-09   2.57053984e-09   2.61256489e-09 ...,\n",
      "      2.63709621e-09   2.63770505e-09   2.67280206e-09]\n",
      "   [  2.61037336e-09   2.74186814e-09   2.61842609e-09 ...,\n",
      "      2.56405381e-09   2.60218963e-09   2.61957800e-09]\n",
      "   [  2.58786795e-09   2.69110320e-09   2.67368297e-09 ...,\n",
      "      2.60585015e-09   2.63526045e-09   2.57247190e-09]\n",
      "   ..., \n",
      "   [  2.65104905e-09   2.60723806e-09   2.62883873e-09 ...,\n",
      "      2.57006022e-09   2.58172372e-09   2.65046013e-09]\n",
      "   [  2.56184901e-09   2.58275623e-09   2.61481611e-09 ...,\n",
      "      2.59907190e-09   2.68255151e-09   2.52314847e-09]\n",
      "   [  2.66774020e-09   2.66355948e-09   2.61749543e-09 ...,\n",
      "      2.56829424e-09   2.63180695e-09   2.61976749e-09]]]]\n",
      "dx : 3.67447094451e-05\n",
      "dgamma : 2.29573135935e-11\n",
      "dbeta : 4.80552190749e-13\n"
     ]
    }
   ],
   "source": [
    "x = np.random.rand(20,3,10,10)\n",
    "dOut = np.random.rand(20,3,10,10)\n",
    "gamma = np.random.rand(3)\n",
    "beta = np.random.rand(3)\n",
    "params = {}\n",
    "params[\"mode\"]=\"train\"\n",
    "params[\"running_mean\"]=0.5\n",
    "params[\"running_var\"] = 0.04\n",
    "params[\"momentum\"]=0.9\n",
    "params[\"eps\"]=1e-8\n",
    "f,cache= spatial_batch_forward(x,gamma,beta,params)\n",
    "dx,dgamma,dbeta = spatial_batch_backward(dOut,cache)\n",
    "\n",
    "dx_num = num_gradient_array(lambda x:spatial_batch_forward(x,gamma,beta,params)[0],x,dOut)\n",
    "dgamma_num = num_gradient_array(lambda gamma:spatial_batch_forward(x,gamma,beta,params)[0],gamma,dOut)\n",
    "dbeta_num = num_gradient_array(lambda beta:spatial_batch_forward(x,gamma,beta,params)[0],beta,dOut)\n",
    "print(\"dx : \"+str(rel_error(dx,dx_num)))\n",
    "print(\"dgamma : \"+str(rel_error(dgamma,dgamma_num)))\n",
    "print(\"dbeta : \"+str(rel_error(dbeta,dbeta_num)))"
   ]
  },
  {
   "cell_type": "markdown",
   "metadata": {},
   "source": [
    "# Convolution Layers"
   ]
  },
  {
   "cell_type": "markdown",
   "metadata": {
    "collapsed": true
   },
   "source": [
    "## Pooling Gradient Checking "
   ]
  },
  {
   "cell_type": "code",
   "execution_count": 9,
   "metadata": {
    "collapsed": false
   },
   "outputs": [
    {
     "name": "stdout",
     "output_type": "stream",
     "text": [
      "dx : 5.00078748014e-13\n"
     ]
    }
   ],
   "source": [
    "x = np.random.rand(5,6,8,8)\n",
    "dOut= np.random.rand(5,6,4,4)\n",
    "pooling_params={}\n",
    "pooling_params['pooling_height'] = 2\n",
    "pooling_params['pooling_width'] = 2\n",
    "pooling_params['pooling_stride_height'] = 2\n",
    "pooling_params['pooling_stride_width'] = 2\n",
    "\n",
    "f,cache = max_pooling_forward(x,pooling_params)\n",
    "dx = max_pooling_backward(dOut,cache)\n",
    "dx_num = num_gradient_array(lambda x:max_pooling_forward(x,pooling_params)[0],x,dOut)\n",
    "print(\"dx : \"+str(rel_error(dx,dx_num)))"
   ]
  },
  {
   "cell_type": "markdown",
   "metadata": {},
   "source": [
    "## Fast Convolution Forward Checking"
   ]
  },
  {
   "cell_type": "code",
   "execution_count": 10,
   "metadata": {
    "collapsed": false
   },
   "outputs": [
    {
     "name": "stdout",
     "output_type": "stream",
     "text": [
      "f : 2.31086479282e-15\n"
     ]
    }
   ],
   "source": [
    "x = np.random.rand(5,3,20,20)\n",
    "w = np.random.rand(10,3,3,3)\n",
    "b = np.random.rand(10)\n",
    "dOut = np.random.rand(5,10,18,18)\n",
    "S = 1\n",
    "params = {}\n",
    "params['stride']=S\n",
    "f,cache = convolve_forward_naive(x,w,b,params)\n",
    "f2,cache2 = convolve_forward_fast(x,w,b,params)\n",
    "print(\"f : \"+str(rel_error(f,f2)))"
   ]
  },
  {
   "cell_type": "markdown",
   "metadata": {},
   "source": [
    "## Fast Convolution Gradient Checking"
   ]
  },
  {
   "cell_type": "code",
   "execution_count": 11,
   "metadata": {
    "collapsed": false
   },
   "outputs": [
    {
     "name": "stdout",
     "output_type": "stream",
     "text": [
      "dx : 1.07977530657e-08\n",
      "dw : 4.2551371637e-11\n",
      "db : 8.81689025131e-12\n"
     ]
    }
   ],
   "source": [
    "x = np.random.rand(5,3,20,20)\n",
    "w = np.random.rand(10,3,3,3)\n",
    "b = np.random.rand(10)\n",
    "dOut = np.random.rand(5,10,18,18)\n",
    "S = 1\n",
    "params = {}\n",
    "params['stride']=S\n",
    "f,cache = convolve_forward_fast(x,w,b,params)\n",
    "dx,dw,db = convolve_backward_fast(dOut,cache)\n",
    "dx_num = num_gradient_array(lambda x:convolve_forward_fast(x,w,b,params)[0],x,dOut)\n",
    "dw_num = num_gradient_array(lambda w:convolve_forward_fast(x,w,b,params)[0],w,dOut)\n",
    "db_num = num_gradient_array(lambda b:convolve_forward_fast(x,w,b,params)[0],b,dOut)\n",
    "print(\"dx : \"+str(rel_error(dx,dx_num)))\n",
    "print(\"dw : \"+str(rel_error(dw,dw_num)))\n",
    "print(\"db : \"+str(rel_error(db,db_num)))"
   ]
  },
  {
   "cell_type": "markdown",
   "metadata": {},
   "source": [
    "# Other Layers"
   ]
  },
  {
   "cell_type": "markdown",
   "metadata": {},
   "source": [
    "## Affine Gradient Checking"
   ]
  },
  {
   "cell_type": "code",
   "execution_count": 12,
   "metadata": {
    "collapsed": true
   },
   "outputs": [],
   "source": [
    "x = np.random.rand(2,4)\n",
    "w = np.random.rand(4,8)\n",
    "b = np.random.rand(8)\n",
    "dOut = np.random.rand(2,8)\n",
    "out,cache = affine_forward(x,w,b)\n",
    "dx,dw,db = affine_backward(dOut,cache)"
   ]
  },
  {
   "cell_type": "code",
   "execution_count": 13,
   "metadata": {
    "collapsed": false
   },
   "outputs": [
    {
     "name": "stdout",
     "output_type": "stream",
     "text": [
      "dx : 5.17014073357e-12\n",
      "dw : 2.12536707039e-11\n",
      "db : 6.92126751647e-12\n"
     ]
    }
   ],
   "source": [
    "dx_num = num_gradient_array(lambda x:affine_forward(x,w,b)[0],x,dOut)\n",
    "dw_num = num_gradient_array(lambda w:affine_forward(x,w,b)[0],w,dOut)\n",
    "db_num = num_gradient_array(lambda b:affine_forward(x,w,b)[0],b,dOut)\n",
    "print(\"dx : \"+str(rel_error(dx,dx_num)))\n",
    "print(\"dw : \"+str(rel_error(dw,dw_num)))\n",
    "print(\"db : \"+str(rel_error(db,db_num)))"
   ]
  },
  {
   "cell_type": "markdown",
   "metadata": {},
   "source": [
    "## Flatten Gradient Checking "
   ]
  },
  {
   "cell_type": "code",
   "execution_count": 14,
   "metadata": {
    "collapsed": false
   },
   "outputs": [
    {
     "name": "stdout",
     "output_type": "stream",
     "text": [
      "dx : 5.00091295022e-13\n"
     ]
    }
   ],
   "source": [
    "x = np.random.rand(5,2,6,7,8)\n",
    "dOut= np.random.rand(5,2*6*7*8)\n",
    "\n",
    "f,cache = flatten_forward(x)\n",
    "dx = flatten_backward(dOut,cache)\n",
    "dx_num = num_gradient_array(lambda x:flatten_forward(x)[0],x,dOut)\n",
    "print(\"dx : \"+str(rel_error(dx,dx_num)))"
   ]
  },
  {
   "cell_type": "markdown",
   "metadata": {},
   "source": [
    "# Loss Layers "
   ]
  },
  {
   "cell_type": "markdown",
   "metadata": {},
   "source": [
    "## Softmax Loss"
   ]
  },
  {
   "cell_type": "code",
   "execution_count": 15,
   "metadata": {
    "collapsed": false
   },
   "outputs": [
    {
     "name": "stdout",
     "output_type": "stream",
     "text": [
      "Loss: 2.39773624259\n"
     ]
    }
   ],
   "source": [
    "x = np.random.rand(20,10)\n",
    "y = np.random.randint(0,10,20)\n",
    "loss,dx = softmax_loss(x,y)\n",
    "print(\"Loss: \"+str(loss))"
   ]
  },
  {
   "cell_type": "markdown",
   "metadata": {},
   "source": [
    "## SVM Loss"
   ]
  },
  {
   "cell_type": "code",
   "execution_count": 16,
   "metadata": {
    "collapsed": false
   },
   "outputs": [
    {
     "name": "stdout",
     "output_type": "stream",
     "text": [
      "Loss: 0.953957544702\n"
     ]
    }
   ],
   "source": [
    "#x = np.random.rand(20,10)\n",
    "x = np.random.normal(0.1,0.08,(20,10))\n",
    "y = np.random.randint(0,10,20)\n",
    "loss, dx = svm_loss(x,y)\n",
    "print(\"Loss: \"+str(loss))"
   ]
  }
 ],
 "metadata": {
  "kernelspec": {
   "display_name": "Python 2",
   "language": "python",
   "name": "python2"
  },
  "language_info": {
   "codemirror_mode": {
    "name": "ipython",
    "version": 2
   },
   "file_extension": ".py",
   "mimetype": "text/x-python",
   "name": "python",
   "nbconvert_exporter": "python",
   "pygments_lexer": "ipython2",
   "version": "2.7.13"
  }
 },
 "nbformat": 4,
 "nbformat_minor": 2
}
